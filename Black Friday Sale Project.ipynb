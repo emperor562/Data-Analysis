{
 "cells": [
  {
   "cell_type": "code",
   "execution_count": null,
   "id": "650e7c28",
   "metadata": {},
   "outputs": [],
   "source": [
    "import pandas as pd"
   ]
  },
  {
   "cell_type": "code",
   "execution_count": null,
   "id": "2637d7f9",
   "metadata": {},
   "outputs": [],
   "source": [
    "df = pd.read_csv('BlackFriday.csv')"
   ]
  },
  {
   "cell_type": "code",
   "execution_count": null,
   "id": "7a4c19e6",
   "metadata": {},
   "outputs": [],
   "source": [
    "df.head()"
   ]
  },
  {
   "cell_type": "code",
   "execution_count": null,
   "id": "b82f8591",
   "metadata": {},
   "outputs": [],
   "source": [
    "df.isna().sum()"
   ]
  },
  {
   "cell_type": "code",
   "execution_count": null,
   "id": "4f4e7848",
   "metadata": {},
   "outputs": [],
   "source": [
    "df.info()"
   ]
  },
  {
   "cell_type": "code",
   "execution_count": null,
   "id": "79a6f084",
   "metadata": {},
   "outputs": [],
   "source": [
    "del df['Product_Category_2']\n",
    "del df['Product_Category_3']"
   ]
  },
  {
   "cell_type": "code",
   "execution_count": null,
   "id": "a6946def",
   "metadata": {},
   "outputs": [],
   "source": [
    "df"
   ]
  },
  {
   "cell_type": "code",
   "execution_count": null,
   "id": "8101d09b",
   "metadata": {},
   "outputs": [],
   "source": [
    "df['User_ID'].nunique()"
   ]
  },
  {
   "cell_type": "code",
   "execution_count": null,
   "id": "2b3f2a0c",
   "metadata": {},
   "outputs": [],
   "source": [
    "df['Product_ID'].nunique()"
   ]
  },
  {
   "cell_type": "code",
   "execution_count": null,
   "id": "be69413e",
   "metadata": {},
   "outputs": [],
   "source": [
    "df['Age'].unique()"
   ]
  },
  {
   "cell_type": "code",
   "execution_count": null,
   "id": "7cdfff38",
   "metadata": {},
   "outputs": [],
   "source": [
    "df['Gender'].unique()"
   ]
  },
  {
   "cell_type": "code",
   "execution_count": null,
   "id": "5b73e498",
   "metadata": {},
   "outputs": [],
   "source": [
    " df['Occupation'].unique()"
   ]
  },
  {
   "cell_type": "code",
   "execution_count": null,
   "id": "b57c462b",
   "metadata": {},
   "outputs": [],
   "source": [
    "df['City_Category'].unique()"
   ]
  },
  {
   "cell_type": "code",
   "execution_count": null,
   "id": "b0660bbb",
   "metadata": {},
   "outputs": [],
   "source": [
    "df['Stay_In_Current_City_Years'].unique()"
   ]
  },
  {
   "cell_type": "code",
   "execution_count": null,
   "id": "db66a860",
   "metadata": {},
   "outputs": [],
   "source": [
    "df['Product_Category_1'].unique()"
   ]
  },
  {
   "cell_type": "code",
   "execution_count": null,
   "id": "f9fecdfb",
   "metadata": {},
   "outputs": [],
   "source": [
    "df['Marital_Status'].unique()"
   ]
  },
  {
   "cell_type": "code",
   "execution_count": null,
   "id": "2ebc5dbd",
   "metadata": {},
   "outputs": [],
   "source": [
    "df['Purchase'].sum()/len(df['Purchase'])"
   ]
  },
  {
   "cell_type": "code",
   "execution_count": null,
   "id": "26023ad0",
   "metadata": {},
   "outputs": [],
   "source": [
    "for column in df.columns:\n",
    "    print(df[column].nunique(),\"\\t: \", column)"
   ]
  },
  {
   "cell_type": "markdown",
   "id": "cd8ffcfe",
   "metadata": {},
   "source": [
    "# Analyzing Gender"
   ]
  },
  {
   "cell_type": "code",
   "execution_count": null,
   "id": "e5fd6da8",
   "metadata": {},
   "outputs": [],
   "source": [
    "data = pd.DataFrame({'Ratio' : [len(df[df['Gender'] == 'M']), len(df[df['Gender'] == 'F'])]}, \n",
    "                    index = ['Male', 'Female'])\n",
    "\n",
    "data.plot.pie(y = 'Ratio', figsize = (6,6), autopct = \"%.1f\") "
   ]
  },
  {
   "cell_type": "code",
   "execution_count": null,
   "id": "2f8a26c7",
   "metadata": {},
   "outputs": [],
   "source": [
    "df.groupby('Gender').size().plot(kind = 'pie', \n",
    "                                 autopct = \"%.1f\",\n",
    "                                 title = 'Gender Ratio',\n",
    "                                 figsize = (6,6))"
   ]
  },
  {
   "cell_type": "code",
   "execution_count": null,
   "id": "db57abed",
   "metadata": {},
   "outputs": [],
   "source": [
    "df.head()"
   ]
  },
  {
   "cell_type": "code",
   "execution_count": null,
   "id": "b663cd22",
   "metadata": {},
   "outputs": [],
   "source": [
    "df.groupby('Age').size().plot(kind  = 'bar',figsize = (12,6),title = 'Purchase Distribution by Age')"
   ]
  },
  {
   "cell_type": "code",
   "execution_count": null,
   "id": "27ccf410",
   "metadata": {},
   "outputs": [],
   "source": [
    "df['Age'].unique()"
   ]
  },
  {
   "cell_type": "code",
   "execution_count": null,
   "id": "d2921c2d",
   "metadata": {},
   "outputs": [],
   "source": [
    "lst = []\n",
    "for i in df['Age'].unique():\n",
    "    lst.append((i, df[df['Age'] == i][\"Product_ID\"].nunique()))\n",
    "data = pd.DataFrame(lst , columns = ['Age' , 'Products'])"
   ]
  },
  {
   "cell_type": "code",
   "execution_count": null,
   "id": "e44fe44b",
   "metadata": {},
   "outputs": [],
   "source": [
    "df[df[\"Age\"] == i][\"Product_ID\"].nunique()"
   ]
  },
  {
   "cell_type": "code",
   "execution_count": null,
   "id": "f284e198",
   "metadata": {},
   "outputs": [],
   "source": [
    "data.plot.bar(x = 'Age', figsize = (8,6))"
   ]
  },
  {
   "cell_type": "code",
   "execution_count": null,
   "id": "76e8403d",
   "metadata": {},
   "outputs": [],
   "source": [
    "df.groupby('Age').sum().plot(kind  = 'bar',figsize = (12,6),title = 'Amount spent by Age')"
   ]
  },
  {
   "cell_type": "code",
   "execution_count": null,
   "id": "9b7ac77f",
   "metadata": {},
   "outputs": [],
   "source": [
    "df.groupby('Age').sum()[\"Purchase\"].plot(kind  = 'pie',autopct = '%0.1f')"
   ]
  },
  {
   "cell_type": "code",
   "execution_count": null,
   "id": "ff2ef0f7",
   "metadata": {},
   "outputs": [],
   "source": [
    "df.groupby('Marital_Status').size().plot(kind  = 'pie',autopct = \"%0.1f\")"
   ]
  },
  {
   "cell_type": "code",
   "execution_count": null,
   "id": "81db208f",
   "metadata": {},
   "outputs": [],
   "source": [
    "df.groupby('Gender').size().plot(kind  = 'pie',autopct = \"%0.1f\")"
   ]
  },
  {
   "cell_type": "markdown",
   "id": "c2a87064",
   "metadata": {},
   "source": [
    "# MULTIPLE COLUMN ANALYSIS"
   ]
  },
  {
   "cell_type": "code",
   "execution_count": null,
   "id": "15040d95",
   "metadata": {},
   "outputs": [],
   "source": [
    "import seaborn as sns"
   ]
  },
  {
   "cell_type": "code",
   "execution_count": null,
   "id": "de658dfd",
   "metadata": {},
   "outputs": [],
   "source": [
    "sns.set(rc = {\"figure.figsize\" : (12,6)})\n",
    "sns.countplot(x = 'Age',hue = 'Gender',data = df)"
   ]
  },
  {
   "cell_type": "code",
   "execution_count": null,
   "id": "727ba8f0",
   "metadata": {},
   "outputs": [],
   "source": [
    "sns.set(rc = {\"figure.figsize\" : (12,6)})\n",
    "sns.countplot(x = 'Gender',hue = 'Age',data = df)"
   ]
  },
  {
   "cell_type": "code",
   "execution_count": null,
   "id": "61cd6f5d",
   "metadata": {},
   "outputs": [],
   "source": [
    "sns.set(rc = {\"figure.figsize\" : (6,6)})\n",
    "sns.countplot(x = 'Marital_Status',hue = 'Gender',data = df)"
   ]
  },
  {
   "cell_type": "code",
   "execution_count": null,
   "id": "20c15622",
   "metadata": {},
   "outputs": [],
   "source": [
    "sns.set(rc = {\"figure.figsize\" : (6,6)})\n",
    "sns.countplot(x = 'Gender',hue = 'Marital_Status',data = df)"
   ]
  },
  {
   "cell_type": "code",
   "execution_count": null,
   "id": "970ae85c",
   "metadata": {},
   "outputs": [],
   "source": [
    "sns.countplot(x = 'City_Category',hue = 'Age',data = df)"
   ]
  },
  {
   "cell_type": "code",
   "execution_count": null,
   "id": "197587c2",
   "metadata": {},
   "outputs": [],
   "source": [
    "df.groupby('City_Category').size().plot(kind = 'pie',autopct = '%.1f')"
   ]
  },
  {
   "cell_type": "code",
   "execution_count": null,
   "id": "17cb175c",
   "metadata": {},
   "outputs": [],
   "source": [
    "sns.countplot(x = 'Marital_Status',hue = 'City_Category',data = df)"
   ]
  },
  {
   "cell_type": "markdown",
   "id": "f85af48c",
   "metadata": {},
   "source": [
    "M0,M1,F0,F1"
   ]
  },
  {
   "cell_type": "code",
   "execution_count": null,
   "id": "81789db4",
   "metadata": {},
   "outputs": [],
   "source": [
    "df.groupby('City_Category').sum()['Purchase'].plot(kind = 'pie',autopct = '%0.1f')"
   ]
  },
  {
   "cell_type": "code",
   "execution_count": null,
   "id": "792b2795",
   "metadata": {},
   "outputs": [],
   "source": [
    "df.head()"
   ]
  },
  {
   "cell_type": "code",
   "execution_count": null,
   "id": "69da13e2",
   "metadata": {},
   "outputs": [],
   "source": [
    "sns.countplot(x = df['Stay_In_Current_City_Years'])"
   ]
  },
  {
   "cell_type": "code",
   "execution_count": null,
   "id": "e5580f6e",
   "metadata": {},
   "outputs": [],
   "source": [
    "sns.countplot(x = 'Stay_In_Current_City_Years' , hue = 'Gender', data = df)"
   ]
  },
  {
   "cell_type": "code",
   "execution_count": null,
   "id": "2b4a2d32",
   "metadata": {},
   "outputs": [],
   "source": [
    "sns.countplot(x = 'Stay_In_Current_City_Years' , hue = 'Marital_Status', data = df)"
   ]
  },
  {
   "cell_type": "code",
   "execution_count": null,
   "id": "7418d169",
   "metadata": {},
   "outputs": [],
   "source": [
    "sns.countplot(x = 'Stay_In_Current_City_Years' , hue = 'City_Category', data = df)"
   ]
  },
  {
   "cell_type": "code",
   "execution_count": null,
   "id": "ab648f84",
   "metadata": {},
   "outputs": [],
   "source": [
    "sns.countplot(x = 'City_Category' , hue = 'Age', data = df)"
   ]
  },
  {
   "cell_type": "code",
   "execution_count": null,
   "id": "31d9b74b",
   "metadata": {},
   "outputs": [],
   "source": [
    "df.groupby('Stay_In_Current_City_Years').sum()['Purchase'].plot(kind = 'pie',autopct = '%0.1f')"
   ]
  },
  {
   "cell_type": "code",
   "execution_count": null,
   "id": "d0762499",
   "metadata": {},
   "outputs": [],
   "source": [
    "sns.countplot(x = df['Occupation'])"
   ]
  },
  {
   "cell_type": "code",
   "execution_count": null,
   "id": "09dc7033",
   "metadata": {},
   "outputs": [],
   "source": [
    "df.groupby('Occupation').size().sort_values().plot(kind = 'bar')"
   ]
  },
  {
   "cell_type": "code",
   "execution_count": null,
   "id": "375200d7",
   "metadata": {},
   "outputs": [],
   "source": [
    "df.groupby('Occupation').sum()['Purchase'].sort_values().plot(kind = 'bar')"
   ]
  },
  {
   "cell_type": "code",
   "execution_count": null,
   "id": "8abe1dd3",
   "metadata": {},
   "outputs": [],
   "source": [
    "df[\"Purchase\"] = pd.to_numeric(df[\"Purchase\"], errors='coerce')"
   ]
  },
  {
   "cell_type": "code",
   "execution_count": null,
   "id": "1e31ab6a",
   "metadata": {},
   "outputs": [],
   "source": [
    "df.groupby(\"Occupation\")[\"Purchase\"].mean().sort_values().plot(kind = 'bar')"
   ]
  },
  {
   "cell_type": "code",
   "execution_count": null,
   "id": "67d95e29",
   "metadata": {},
   "outputs": [],
   "source": [
    "sns.countplot(x = \"Occupation\",hue = \"Martial_Status\", data = df)"
   ]
  },
  {
   "cell_type": "code",
   "execution_count": null,
   "id": "77498289",
   "metadata": {},
   "outputs": [],
   "source": [
    "sns.countplot(x = \"Occupation\",hue = \"Gender\", data = df)"
   ]
  },
  {
   "cell_type": "code",
   "execution_count": null,
   "id": "3580ef07",
   "metadata": {},
   "outputs": [],
   "source": []
  }
 ],
 "metadata": {
  "kernelspec": {
   "display_name": "Python 3 (ipykernel)",
   "language": "python",
   "name": "python3"
  },
  "language_info": {
   "codemirror_mode": {
    "name": "ipython",
    "version": 3
   },
   "file_extension": ".py",
   "mimetype": "text/x-python",
   "name": "python",
   "nbconvert_exporter": "python",
   "pygments_lexer": "ipython3",
   "version": "3.11.5"
  }
 },
 "nbformat": 4,
 "nbformat_minor": 5
}
